{
 "cells": [
  {
   "cell_type": "markdown",
   "metadata": {},
   "source": [
    "# Getting Started\n",
    "\n",
    "## 1. What is ndio?\n",
    "ndio is a Python module that aids in the download and manipulation of big-neuroscience-data. <sup id=\"r-phraseorder\">[1](f-phraseorder)</sup> For more information, check out the [GitHub repository](https://github.com/neurodata/ndio), which has soom goodies like [installation instructions](https://github.com/neurodata/ndio/wiki/Installation) tucked away in the [wiki](https://github.com/neurodata/ndio/wiki).\n",
    "\n",
    "In this iPython notebook, we'll pretend we're a total newcomer to the world of big-data and neuroscience, and we'll learn some stuff about brains by downloading data from the <a href=\"http://www.cell.com/cell/abstract/S0092-8674(15)00824-7\">Kasthuri, et al (2015) CELL paper</a>, a great example of [open science](https://en.wikipedia.org/wiki/Open_science).\n",
    "\n",
    "To get started, [install ndio](https://github.com/neurodata/ndio/wiki/Installation) and open up your favorite Python [code editor](https://xkcd.com/378/). Make sure you have ndio installed correctly by checking the version:"
   ]
  },
  {
   "cell_type": "code",
   "execution_count": 1,
   "metadata": {
    "collapsed": false
   },
   "outputs": [
    {
     "data": {
      "text/plain": [
       "'1.0.0'"
      ]
     },
     "execution_count": 1,
     "metadata": {},
     "output_type": "execute_result"
    }
   ],
   "source": [
    "import ndio\n",
    "ndio.version"
   ]
  },
  {
   "cell_type": "markdown",
   "metadata": {},
   "source": [
    "Nice. We're up to date.\n",
    "\n",
    "## 2. Looking for Data\n",
    "What datasets are available for us to look at? (Life-hack: skip to [section 3](#3-Downloading-Data) if you just want to see how to download data.)\n",
    "\n",
    "\n",
    "To begin, let's create a new `Remote` — ndio Remotes let us look at data from a remote server, such as the ndstore servers that store the NeuroData spatial data."
   ]
  },
  {
   "cell_type": "code",
   "execution_count": 2,
   "metadata": {
    "collapsed": true
   },
   "outputs": [],
   "source": [
    "import ndio.remote.neurodata as neurodata\n",
    "\n",
    "nd = neurodata()"
   ]
  },
  {
   "cell_type": "markdown",
   "metadata": {},
   "source": [
    "Next, let's look at the publicly available datasets from [NeuroData](http://neurodata.io):"
   ]
  },
  {
   "cell_type": "code",
   "execution_count": 3,
   "metadata": {
    "collapsed": false
   },
   "outputs": [
    {
     "name": "stdout",
     "output_type": "stream",
     "text": [
      "102\n"
     ]
    }
   ],
   "source": [
    "public_tokens = nd.get_public_tokens()\n",
    "\n",
    "print(len(public_tokens))"
   ]
  },
  {
   "cell_type": "markdown",
   "metadata": {},
   "source": [
    "Whoa. That's a lot of public data. Let's pick one at \"random\""
   ]
  },
  {
   "cell_type": "code",
   "execution_count": 4,
   "metadata": {
    "collapsed": false
   },
   "outputs": [
    {
     "data": {
      "text/plain": [
       "True"
      ]
     },
     "execution_count": 4,
     "metadata": {},
     "output_type": "execute_result"
    }
   ],
   "source": [
    "TOKEN = \"kasthuri11\"\n",
    "CHANNEL = \"image\"\n",
    "\n",
    "TOKEN in public_tokens # Should *definitely* be true"
   ]
  },
  {
   "cell_type": "markdown",
   "metadata": {},
   "source": [
    "For more information about finding available tokens and datasets, check out [this tutorial](#)."
   ]
  },
  {
   "cell_type": "markdown",
   "metadata": {},
   "source": [
    "## Downloading Data\n",
    "Now we'll try downloading some image data from the electron-microscopy channel, which is stored in the channel called 'image' in the dataset."
   ]
  },
  {
   "cell_type": "code",
   "execution_count": 5,
   "metadata": {
    "collapsed": true
   },
   "outputs": [],
   "source": [
    "query = {\n",
    "    'token': TOKEN,\n",
    "    'channel': CHANNEL,\n",
    "    'x_start': 1416,\n",
    "    'x_stop': 1616,\n",
    "    'y_start': 1850,\n",
    "    'y_stop': 2000,\n",
    "    'z_start': 1100,\n",
    "    'z_stop': 1102,\n",
    "    'resolution': 3\n",
    "}\n",
    "\n",
    "example_data = nd.get_cutout(**query)"
   ]
  },
  {
   "cell_type": "code",
   "execution_count": 6,
   "metadata": {
    "collapsed": false
   },
   "outputs": [
    {
     "data": {
      "image/png": "[encoded data removed]",
      "text/plain": [
       "<PIL.Image.Image image mode=L size=150x200 at 0x10513BDD0>"
      ]
     },
     "execution_count": 6,
     "metadata": {},
     "output_type": "execute_result"
    }
   ],
   "source": [
    "%matplotlib inline\n",
    "\n",
    "from PIL import Image\n",
    "Image.fromarray(example_data[:,:,0])"
   ]
  },
  {
   "cell_type": "markdown",
   "metadata": {},
   "source": [
    "Great! We generated an image from downloaded data.\n",
    "\n",
    "> More examples to come soon — check back shortly."
   ]
  },
  {
   "cell_type": "markdown",
   "metadata": {},
   "source": [
    "## Footnotes\n",
    "> - <b id=\"f-phraseorder\">1 — </b> What's the right phrase order for this? \"Big-data neuroscience data\"? \"Big-neuroscience data\"? \"Big neuroscience-data\"? Scientists agree: You should compromise and use \"*bigo sci dataneurbog.*\" [↩](#\"r-phraseorder\")"
   ]
  }
 ],
 "metadata": {
  "kernelspec": {
   "display_name": "Python 2",
   "language": "python",
   "name": "python2"
  },
  "language_info": {
   "codemirror_mode": {
    "name": "ipython",
    "version": 2
   },
   "file_extension": ".py",
   "mimetype": "text/x-python",
   "name": "python",
   "nbconvert_exporter": "python",
   "pygments_lexer": "ipython2",
   "version": "2.7.10"
  }
 },
 "nbformat": 4,
 "nbformat_minor": 0
}
