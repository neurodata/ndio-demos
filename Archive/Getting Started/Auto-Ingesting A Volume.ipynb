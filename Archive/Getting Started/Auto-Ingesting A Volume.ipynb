{
 "cells": [
   {
    "cell_type": "markdown",
    "metadata": {},
    "source": [
     "# Prepping the Data\n",
     "Ingesting data requires the data to be organized and http-gettable. Instructions for how to do each can be found [here.](http://docs.neurodata.io/open-connectome/sphinx/ingesting.html)"
    ]
   },
   {
    "cell_type": "code",
    "execution_count": 1,
    "metadata": {
     "collapsed": true
    },
    "outputs": [],
    "source": [
     "import ndio.remote.ndingest as NI\n",
     "ni = NI.NDIngest()"
    ]
   },
   {
    "cell_type": "markdown",
    "metadata": {},
    "source": [
     "# Adding Information to \n",
     "Adding information to the auto-ingest is as simple as calling add_dataset, add_project, or add_channel with the appropriate information. For multi-channel data simply call the add_channel method until all channels have been added."
    ]
   },
   {
    "cell_type": "markdown",
    "metadata": {},
    "source": [
     "# Adding Dataset Information \n",
     "For each autoingest job there is only one set of dataset information, as per the data model (avilable [here](http://docs.neurodata.io/open-connectome/sphinx/datamodel.html)). If the dataset already exists the new project/channel(s) are created within that dataset."
    ]
   },
   {
    "cell_type": "code",
    "execution_count": 2,
    "metadata": {
     "collapsed": false
    },
    "outputs": [],
    "source": [
     "ni.add_dataset(dataset_name, imagesize, voxelres, offset, timerange, scalinglevels, scaling)"
    ]
   },
   {
    "cell_type": "markdown",
    "metadata": {},
    "source": [
     "# Adding Project Information\n",
     "For each autoingest job there is only one set of project information, as per the data model (avilable [here](http://docs.neurodata.io/open-connectome/sphinx/datamodel.html)). If the project and the dataset already exists the new project/channel(s) are created within that dataset."
    ]
   },
   {
    "cell_type": "code",
    "execution_count": 2,
    "metadata": {
     "collapsed": false
    },
    "outputs": [],
    "source": [
     "ni.add_project(project_name, token_name, public)"
    ]
   },
   {
    "cell_type": "markdown",
    "metadata": {},
    "source": [
     "# Adding Channel Information\n",
     "For each autoingest job there can be many sets of channel information, as per the data model (avilable [here](http://docs.neurodata.io/open-connectome/sphinx/datamodel.html)). If the project and the dataset already exists the new channel(s) are created within that dataset."
    ]
   },
   {
    "cell_type": "code",
    "execution_count": 2,
    "metadata": {
     "collapsed": false
    },
    "outputs": [],
    "source": [
     "ni.add_channel(channel_name, datatype, channel_type, data_url, file_format, file_type, exceptions, resolution, windowrange, readonly)"
    ]
   },
   {
    "cell_type": "markdown",
    "metadata": {},
    "source": [
     "# Adding Metadata Information\n",
     "For each autoingest job there can be one set of metadata information, as per the data model (avilable [here](http://docs.neurodata.io/open-connectome/sphinx/datamodel.html)). If metadata already exists in the project (dataset/project already exists) it is overwritten with the new metadata."
    ]
   },
   {
    "cell_type": "code",
    "execution_count": 2,
    "metadata": {
     "collapsed": false
    },
    "outputs": [],
    "source": [
     "ni.add_metadata(metadata)"
    ]
   },
   {
    "cell_type": "markdown",
    "metadata": {},
    "source": [
     "# Posting Information\n",
     "When ingesting to NeuroData you need to post the autoingest instance to http://openconnecto.me/ using the post_data command which uses the correct address by default. "
    ]
   },
   {
    "cell_type": "code",
    "execution_count": 2,
    "metadata": {
     "collapsed": false
    },
    "outputs": [],
    "source": [
     "ni.post_data()"
    ]
   }
 ],
 "metadata": {
  "kernelspec": {
   "display_name": "Python 2",
   "language": "python",
   "name": "python2"
  },
  "language_info": {
   "codemirror_mode": {
    "name": "ipython",
    "version": 2
   },
   "file_extension": ".py",
   "mimetype": "text/x-python",
   "name": "python",
   "nbconvert_exporter": "python",
   "pygments_lexer": "ipython2",
   "version": "2.7.10"
  }
 },
 "nbformat": 4,
 "nbformat_minor": 0
}
