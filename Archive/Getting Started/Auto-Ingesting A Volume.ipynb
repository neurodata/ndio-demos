{
 "metadata": {
  "kernelspec": {
   "display_name": "Python 2",
   "language": "python",
   "name": "python2"
  },
  "language_info": {
   "codemirror_mode": {
    "name": "ipython",
    "version": 2
   },
   "file_extension": ".py",
   "mimetype": "text/x-python",
   "name": "python",
   "nbconvert_exporter": "python",
   "pygments_lexer": "ipython2",
   "version": "2.7.10"
  },
  "name": ""
 },
 "nbformat": 3,
 "nbformat_minor": 0,
 "worksheets": [
  {
   "cells": [
    {
     "cell_type": "markdown",
     "metadata": {},
     "source": [
      "# Prepping the Data\n",
      "Ingesting data requires the data to be organized and http-gettable. Instructions for how to do each can be found [here.](http://docs.neurodata.io/open-connectome/sphinx/ingesting.html)"
     ]
    },
    {
     "cell_type": "code",
     "collapsed": true,
     "input": [
      "import ndio.remote.ndingest as NI\n",
      "ni = NI.NDIngest()"
     ],
     "language": "python",
     "metadata": {},
     "outputs": [],
     "prompt_number": 1
    },
    {
     "cell_type": "markdown",
     "metadata": {},
     "source": [
      "# Adding Information\n",
      "Adding information to ndingest is as simple as calling add_dataset, add_project, or add_channel with the appropriate information. For multi-channel data simply call the add_channel method until all channels have been added. Please note that many variables do not nessesarily need to be included for every dataset, but are included here for posterity. If a variable is not needed for the example dataset, it here is enumerated as having a value None."
     ]
    },
    {
     "cell_type": "markdown",
     "metadata": {},
     "source": [
      "# Adding Dataset Information \n",
      "For each autoingest job there is only one set of dataset information, as per the data model (avilable [here](http://docs.neurodata.io/open-connectome/sphinx/datamodel.html)). If the dataset already exists the new project/channel(s) are created within that dataset."
     ]
    },
    {
     "cell_type": "code",
     "collapsed": false,
     "input": [
      "ni.add_dataset(dataset_name=\"hbp16\", imagesize=(7389,6572,50), voxelres=(1.0,1.0,1.0), offset=(0,0,0), timerange=None, scalinglevels=3, scaling=0)"
     ],
     "language": "python",
     "metadata": {},
     "outputs": [],
     "prompt_number": 2
    },
    {
     "cell_type": "markdown",
     "metadata": {},
     "source": [
      "# Adding Project Information\n",
      "For each autoingest job there is only one set of project information, as per the data model (avilable [here](http://docs.neurodata.io/open-connectome/sphinx/datamodel.html)). If the project and the dataset already exists the new project/channel(s) are created within that dataset. By default if project and/or token are left blank they default to the dataset and project name respectively."
     ]
    },
    {
     "cell_type": "code",
     "collapsed": false,
     "input": [
      "ni.add_project(project_name=\"hbp16\", token_name=\"hbp16\", public=1)"
     ],
     "language": "python",
     "metadata": {},
     "outputs": [],
     "prompt_number": 3
    },
    {
     "cell_type": "markdown",
     "metadata": {},
     "source": [
      "# Adding Channel Information\n",
      "For each autoingest job there can be many sets of channel information, as per the data model (avilable [here](http://docs.neurodata.io/open-connectome/sphinx/datamodel.html)). If the project and the dataset already exists the new channel(s) are created within that dataset."
     ]
    },
    {
     "cell_type": "code",
     "collapsed": false,
     "input": [
      "ni.add_channel(channel_name=\"image\", datatype=\"uint8\", channel_type=\"image\", data_url=\"http://neurodata-public.s3.amazonaws.com\", file_format=\"SLICE\", file_type=\"tif\", exceptions=0, resolution=0, windowrange=None, readonly=0)"
     ],
     "language": "python",
     "metadata": {},
     "outputs": [],
     "prompt_number": 4
    },
    {
     "cell_type": "markdown",
     "metadata": {},
     "source": [
      "# Adding Metadata Information\n",
      "For each autoingest job there can be one set of metadata information, as per the data model (avilable [here](http://docs.neurodata.io/open-connectome/sphinx/datamodel.html)). If metadata already exists in the project (dataset/project already exists) it is overwritten with the new metadata."
     ]
    },
    {
     "cell_type": "code",
     "collapsed": false,
     "input": [
      "ni.add_metadata(metadata=\"\")"
     ],
     "language": "python",
     "metadata": {},
     "outputs": [],
     "prompt_number": 5
    },
    {
     "cell_type": "markdown",
     "metadata": {},
     "source": [
      "# Posting Information\n",
      "When ingesting to NeuroData you need to post the autoingest instance to https://cloud.neurodata.io/ using the post_data command which uses the correct address by default. For this example the post command has been commented out as calling it would trigger the data to be posted into our service. Because it is not possible to remove this data easily once posted, we have not enabled this step in the tutorial."
     ]
    },
    {
     "cell_type": "code",
     "collapsed": false,
     "input": [
      "#ni.post_data()"
     ],
     "language": "python",
     "metadata": {},
     "outputs": [],
     "prompt_number": 2
    }
   ],
   "metadata": {}
  }
 ]
}
