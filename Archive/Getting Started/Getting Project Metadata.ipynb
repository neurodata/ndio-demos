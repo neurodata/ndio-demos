{
 "cells": [
  {
   "cell_type": "markdown",
   "metadata": {},
   "source": [
    "# Getting Project Metadata\n",
    "OCP stores metadata about all of its projects. To read this metadata, use the built-in functions of ndio."
   ]
  },
  {
   "cell_type": "code",
   "execution_count": 1,
   "metadata": {
    "collapsed": true
   },
   "outputs": [],
   "source": [
    "import ndio.remote.neurodata as ND\n",
    "nd = ND()"
   ]
  },
  {
   "cell_type": "markdown",
   "metadata": {},
   "source": [
    "In this example, we'll look at the bounds of the `bock11` dataset (a good example because it doesn't start at the conventional $(0, 0, 0)$ origin)."
   ]
  },
  {
   "cell_type": "code",
   "execution_count": 2,
   "metadata": {
    "collapsed": true
   },
   "outputs": [],
   "source": [
    "metadata = nd.get_proj_info('bock11')"
   ]
  },
  {
   "cell_type": "markdown",
   "metadata": {},
   "source": [
    "By looking at the `metadata` values, we can see that the origin of this dataset is *actually* $(0, 0, 2917)$."
   ]
  },
  {
   "cell_type": "code",
   "execution_count": 3,
   "metadata": {
    "collapsed": false
   },
   "outputs": [
    {
     "data": {
      "text/plain": [
       "{u'0': [0, 0, 2917],\n",
       " u'1': [0, 0, 2917],\n",
       " u'10': [0, 0, 2917],\n",
       " u'2': [0, 0, 2917],\n",
       " u'3': [0, 0, 2917],\n",
       " u'4': [0, 0, 2917],\n",
       " u'5': [0, 0, 2917],\n",
       " u'6': [0, 0, 2917],\n",
       " u'7': [0, 0, 2917],\n",
       " u'8': [0, 0, 2917],\n",
       " u'9': [0, 0, 2917]}"
      ]
     },
     "execution_count": 3,
     "metadata": {},
     "output_type": "execute_result"
    }
   ],
   "source": [
    "metadata['dataset']['offset']"
   ]
  }
 ],
 "metadata": {
  "kernelspec": {
   "display_name": "Python 2",
   "language": "python",
   "name": "python2"
  },
  "language_info": {
   "codemirror_mode": {
    "name": "ipython",
    "version": 2
   },
   "file_extension": ".py",
   "mimetype": "text/x-python",
   "name": "python",
   "nbconvert_exporter": "python",
   "pygments_lexer": "ipython2",
   "version": "2.7.10"
  }
 },
 "nbformat": 4,
 "nbformat_minor": 0
}
