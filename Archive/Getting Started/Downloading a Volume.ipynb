{
 "cells": [
  {
   "cell_type": "markdown",
   "metadata": {},
   "source": [
    "# Downloading a Volume\n",
    "Downloading a volume of data is as simple as downloading a single image. Here, we'll download a subvolume of the Bock11 dataset."
   ]
  },
  {
   "cell_type": "code",
   "execution_count": 1,
   "metadata": {
    "collapsed": true
   },
   "outputs": [],
   "source": [
    "import ndio.remote.neurodata as ND\n",
    "nd = ND()"
   ]
  },
  {
   "cell_type": "markdown",
   "metadata": {},
   "source": [
    "The syntax for the get_cutout function is:\n",
    "    \n",
    "    token\n",
    "    channel\n",
    "    x_start\n",
    "    x_stop\n",
    "    y_start\n",
    "    y_stop\n",
    "    z_start\n",
    "    z_stop\n",
    "    resolution"
   ]
  },
  {
   "cell_type": "code",
   "execution_count": 2,
   "metadata": {
    "collapsed": false
   },
   "outputs": [],
   "source": [
    "bock11_subvol = nd.get_cutout('bock11', 'image', 11000, 11100, 11000, 11100, 4000, 4010, resolution=3)"
   ]
  },
  {
   "cell_type": "markdown",
   "metadata": {},
   "source": [
    "The data is now stored in a numpy 3D array."
   ]
  },
  {
   "cell_type": "code",
   "execution_count": 3,
   "metadata": {
    "collapsed": false
   },
   "outputs": [
    {
     "data": {
      "text/plain": [
       "174"
      ]
     },
     "execution_count": 3,
     "metadata": {},
     "output_type": "execute_result"
    }
   ],
   "source": [
    "bock11_subvol[5][10][10]"
   ]
  },
  {
   "cell_type": "markdown",
   "metadata": {},
   "source": [
    "## Download Functions\n",
    "There are three different download functions, each with a slightly different purpose:\n",
    "\n",
    "- `neurodata.get_volume` returns a `ndio.RAMONVolume`, with `resolution` `xyz_offset`, and `cutout` set to the values specified by your call.\n",
    "- `neurodata.get_cutout` returns a `numpy.ndarray` set to the 3D volume data\n",
    "- `neurodata.get_image`, or `neurodata.get_xy_slice`, returns a 2D `numpy.ndarray` for a single z-index in the volume."
   ]
  },
  {
   "cell_type": "code",
   "execution_count": 4,
   "metadata": {
    "collapsed": false
   },
   "outputs": [],
   "source": [
    "vol_args = ['bock11', 'image', 11000, 11100, 11000, 11100, 4000, 4010, 3]\n",
    "img_args = ['bock11', 'image', 11000, 11100, 11000, 11100, 4000, 3]\n",
    "\n",
    "cutout_equals_volumecutout = nd.get_cutout(*vol_args)[0] == nd.get_volume(*vol_args).cutout[0]"
   ]
  },
  {
   "cell_type": "code",
   "execution_count": 5,
   "metadata": {
    "collapsed": true
   },
   "outputs": [],
   "source": [
    "cutout_equals_image = nd.get_cutout(*vol_args)[0] == nd.get_image(*img_args)"
   ]
  }
 ],
 "metadata": {
  "kernelspec": {
   "display_name": "Python 2",
   "language": "python",
   "name": "python2"
  },
  "language_info": {
   "codemirror_mode": {
    "name": "ipython",
    "version": 2
   },
   "file_extension": ".py",
   "mimetype": "text/x-python",
   "name": "python",
   "nbconvert_exporter": "python",
   "pygments_lexer": "ipython2",
   "version": "2.7.10"
  }
 },
 "nbformat": 4,
 "nbformat_minor": 0
}
