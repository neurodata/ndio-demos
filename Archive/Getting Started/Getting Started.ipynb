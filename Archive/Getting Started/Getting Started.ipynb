{
 "cells": [
  {
   "cell_type": "markdown",
   "metadata": {},
   "source": [
    "# Getting Started with ndio\n",
    "\n",
    "This notebook is a brief introduction to ndio, the python library for interfacing with [neurodata](http://neurodata.io) tools, such as [m2g](http://m2g.io) or [the Open Connectome Project](http://ocp.ne). There is some awesome documentation for these tools over [at the website](http://docs.neurodata.io/nddocs/), so I won't duplicate that here. Instead, we'll take a short tour through some useful or commonly-used functions."
   ]
  },
  {
   "cell_type": "markdown",
   "metadata": {},
   "source": [
    "## Installation\n",
    "Lucky for us, ndio lives in PyPI, which means we can install it using pip:\n",
    "\n",
    "```\n",
    "pip install ndio\n",
    "```\n",
    "\n",
    "This tutorial includes information about the latest version of ndio as of writing, which is 0.0.4. To figure out which version of ndio you're running, use the `version` attribute:"
   ]
  },
  {
   "cell_type": "code",
   "execution_count": 1,
   "metadata": {
    "collapsed": false
   },
   "outputs": [],
   "source": [
    "import ndio"
   ]
  },
  {
   "cell_type": "code",
   "execution_count": 2,
   "metadata": {
    "collapsed": false
   },
   "outputs": [
    {
     "data": {
      "text/plain": [
       "'0.0.18'"
      ]
     },
     "execution_count": 2,
     "metadata": {},
     "output_type": "execute_result"
    }
   ],
   "source": [
    "ndio.version"
   ]
  },
  {
   "cell_type": "markdown",
   "metadata": {},
   "source": [
    "Let's take a look at some of the packages included.\n",
    "\n",
    "## Packages\n",
    "ndio includes four top-level packages:\n",
    "\n",
    "| Package Name | Description |\n",
    "|------|------|\n",
    "| `convert` | Functions to convert between formats, and to import or export data from ndio-friendly formats |\n",
    "| `ramon` | Classes that mirror the RAMON data-storage standard for neuro data |\n",
    "| `remote` | Code that can be used to access remote sources of data, such as OCP |\n",
    "| `utils` | Code that assists with things like computer vision, statistics, or other common use-cases for ndio scripts |\n",
    "\n",
    "Importing ndio *does not* import all four packages automatically, because they're pretty large and it's not worth importing them if you don't need them! Instead, you can import individual packages like this:"
   ]
  },
  {
   "cell_type": "code",
   "execution_count": 3,
   "metadata": {
    "collapsed": true
   },
   "outputs": [],
   "source": [
    "from ndio import convert"
   ]
  },
  {
   "cell_type": "markdown",
   "metadata": {},
   "source": [
    "Or, if you prefer, you can even name ndio subpackages to be more intuitive and shorter to type:"
   ]
  },
  {
   "cell_type": "code",
   "execution_count": 4,
   "metadata": {
    "collapsed": true
   },
   "outputs": [],
   "source": [
    "import ndio.utils.stats as ndstats"
   ]
  },
  {
   "cell_type": "markdown",
   "metadata": {},
   "source": [
    "## First Steps\n",
    "We've now seen how to install and set up the package. Let's [do some science](/tree/kasthuri-statistics)!"
   ]
  }
 ],
 "metadata": {
  "kernelspec": {
   "display_name": "Python 2",
   "language": "python",
   "name": "python2"
  },
  "language_info": {
   "codemirror_mode": {
    "name": "ipython",
    "version": 2
   },
   "file_extension": ".py",
   "mimetype": "text/x-python",
   "name": "python",
   "nbconvert_exporter": "python",
   "pygments_lexer": "ipython2",
   "version": "2.7.10"
  }
 },
 "nbformat": 4,
 "nbformat_minor": 0
}
