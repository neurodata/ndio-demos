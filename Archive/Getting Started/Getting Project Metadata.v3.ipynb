{
 "metadata": {
  "kernelspec": {
   "display_name": "Python 2",
   "language": "python",
   "name": "python2"
  },
  "language_info": {
   "codemirror_mode": {
    "name": "ipython",
    "version": 2
   },
   "file_extension": ".py",
   "mimetype": "text/x-python",
   "name": "python",
   "nbconvert_exporter": "python",
   "pygments_lexer": "ipython2",
   "version": "2.7.10"
  },
  "name": ""
 },
 "nbformat": 3,
 "nbformat_minor": 0,
 "worksheets": [
  {
   "cells": [
    {
     "cell_type": "markdown",
     "metadata": {},
     "source": [
      "# Getting Project Metadata\n",
      "OCP stores metadata about all of its projects. To read this metadata, use the built-in functions of ndio."
     ]
    },
    {
     "cell_type": "code",
     "collapsed": true,
     "input": [
      "import ndio.remote.neurodata as ND\n",
      "nd = ND(hostname = 'cloud.neurodata.io')"
     ],
     "language": "python",
     "metadata": {},
     "outputs": [],
     "prompt_number": 7
    },
    {
     "cell_type": "markdown",
     "metadata": {},
     "source": [
      "In this example, we'll look at the bounds of the `bock11` dataset (a good example because it doesn't start at the conventional $(0, 0, 0)$ origin)."
     ]
    },
    {
     "cell_type": "code",
     "collapsed": true,
     "input": [
      "metadata = nd.get_proj_info('bock11')"
     ],
     "language": "python",
     "metadata": {},
     "outputs": [
      {
       "output_type": "stream",
       "stream": "stderr",
       "text": [
        "/usr/local/lib/python2.7/dist-packages/requests/packages/urllib3/connectionpool.py:852: InsecureRequestWarning: Unverified HTTPS request is being made. Adding certificate verification is strongly advised. See: https://urllib3.readthedocs.io/en/latest/advanced-usage.html#ssl-warnings\n",
        "  InsecureRequestWarning)\n"
       ]
      }
     ],
     "prompt_number": 8
    },
    {
     "cell_type": "markdown",
     "metadata": {},
     "source": [
      "By looking at the `metadata` values, we can see that the origin of this dataset is *actually* $(0, 0, 2917)$."
     ]
    },
    {
     "cell_type": "code",
     "collapsed": false,
     "input": [
      "metadata['dataset']['offset']"
     ],
     "language": "python",
     "metadata": {},
     "outputs": [
      {
       "metadata": {},
       "output_type": "pyout",
       "prompt_number": 9,
       "text": [
        "{u'0': [0, 0, 2917],\n",
        " u'1': [0, 0, 2917],\n",
        " u'10': [0, 0, 2917],\n",
        " u'2': [0, 0, 2917],\n",
        " u'3': [0, 0, 2917],\n",
        " u'4': [0, 0, 2917],\n",
        " u'5': [0, 0, 2917],\n",
        " u'6': [0, 0, 2917],\n",
        " u'7': [0, 0, 2917],\n",
        " u'8': [0, 0, 2917],\n",
        " u'9': [0, 0, 2917]}"
       ]
      }
     ],
     "prompt_number": 9
    },
    {
     "cell_type": "code",
     "collapsed": false,
     "input": [],
     "language": "python",
     "metadata": {},
     "outputs": []
    }
   ],
   "metadata": {}
  }
 ]
}