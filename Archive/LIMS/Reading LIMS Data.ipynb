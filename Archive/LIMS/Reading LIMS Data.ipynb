{
 "cells": [
  {
   "cell_type": "markdown",
   "metadata": {},
   "source": [
    "# Reading Metadata from NeuroData LIMS\n",
    "NeuroData hosts a basic LIM system for use with NeuroData-hosted data, such as m2g, OCP, etc. This LIM system is accessible using the ndio Python library."
   ]
  },
  {
   "cell_type": "code",
   "execution_count": 1,
   "metadata": {
    "collapsed": true
   },
   "outputs": [],
   "source": [
    "import ndio.remote.OCPMeta as NDLims\n",
    "ndlims = NDLims()"
   ]
  },
  {
   "cell_type": "code",
   "execution_count": 2,
   "metadata": {
    "collapsed": false
   },
   "outputs": [
    {
     "data": {
      "text/plain": [
       "{u'_created': u'2015-11-15T21:11:27.467Z',\n",
       " u'_id': u'Z6buXLJH3pZvcDyfr',\n",
       " u'author': u'Arthur Dent',\n",
       " u'token': u'ndio_demos'}"
      ]
     },
     "execution_count": 2,
     "metadata": {},
     "output_type": "execute_result"
    }
   ],
   "source": [
    "ndlims.get_metadata('ndio_demos')"
   ]
  }
 ],
 "metadata": {
  "kernelspec": {
   "display_name": "Python 2",
   "language": "python",
   "name": "python2"
  },
  "language_info": {
   "codemirror_mode": {
    "name": "ipython",
    "version": 2
   },
   "file_extension": ".py",
   "mimetype": "text/x-python",
   "name": "python",
   "nbconvert_exporter": "python",
   "pygments_lexer": "ipython2",
   "version": "2.7.10"
  }
 },
 "nbformat": 4,
 "nbformat_minor": 0
}
