{
 "cells": [
  {
   "cell_type": "markdown",
   "metadata": {},
   "source": [
    "# Writing Metadata to NeuroData LIMS\n",
    "NeuroData hosts a basic LIM system for use with NeuroData-hosted data, such as m2g, OCP, etc. This LIM system is accessible using the ndio Python library."
   ]
  },
  {
   "cell_type": "code",
   "execution_count": 1,
   "metadata": {
    "collapsed": true
   },
   "outputs": [],
   "source": [
    "import ndio.remote.OCPMeta as NDLims\n",
    "ndlims = NDLims()"
   ]
  },
  {
   "cell_type": "markdown",
   "metadata": {},
   "source": [
    "This LIM system uses basic authentication with a pass-phrase. When you create data, you may specify a passphrase, known as a `secret`. Anyone with that `secret` can modify your metadata."
   ]
  },
  {
   "cell_type": "code",
   "execution_count": 2,
   "metadata": {
    "collapsed": false
   },
   "outputs": [],
   "source": [
    "secret = \"ndio_demos_passphrase\""
   ]
  },
  {
   "cell_type": "markdown",
   "metadata": {
    "collapsed": true
   },
   "source": [
    "Next, we'll write some metadata, in the form of a Python dictionary, to the LIMS, under the project name `ndio_demos`."
   ]
  },
  {
   "cell_type": "code",
   "execution_count": 3,
   "metadata": {
    "collapsed": false
   },
   "outputs": [
    {
     "data": {
      "text/plain": [
       "{u'_id': 1}"
      ]
     },
     "execution_count": 3,
     "metadata": {},
     "output_type": "execute_result"
    }
   ],
   "source": [
    "ndlims.set_metadata('ndio_demos', {\n",
    "    'secret': secret,\n",
    "    'author': 'Arthur Dent'\n",
    "})"
   ]
  },
  {
   "cell_type": "markdown",
   "metadata": {},
   "source": [
    "The `id` that is returned is the unique ID of this entry in the database (think of it as a primary key). You can retrieve the data later using either this ID, or the token name."
   ]
  }
 ],
 "metadata": {
  "kernelspec": {
   "display_name": "Python 2",
   "language": "python",
   "name": "python2"
  },
  "language_info": {
   "codemirror_mode": {
    "name": "ipython",
    "version": 2
   },
   "file_extension": ".py",
   "mimetype": "text/x-python",
   "name": "python",
   "nbconvert_exporter": "python",
   "pygments_lexer": "ipython2",
   "version": "2.7.10"
  }
 },
 "nbformat": 4,
 "nbformat_minor": 0
}
