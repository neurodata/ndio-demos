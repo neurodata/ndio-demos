{
 "cells": [
  {
   "cell_type": "markdown",
   "metadata": {},
   "source": [
    "# Getting an ROI from LIMS\n",
    "NeuroData hosts a basic LIM system for use with NeuroData-hosted data. These metadata hold a field called `ROIs`, which is an array of locations in the dataset that may be interesting to view as a first introduction to the data."
   ]
  },
  {
   "cell_type": "code",
   "execution_count": 1,
   "metadata": {
    "collapsed": true
   },
   "outputs": [],
   "source": [
    "import ndio.remote.neurodata as ND\n",
    "nd = ND()"
   ]
  },
  {
   "cell_type": "code",
   "execution_count": 2,
   "metadata": {
    "collapsed": false
   },
   "outputs": [
    {
     "data": {
      "text/plain": [
       "[{u'channel': u'image',\n",
       "  u'notes': u'ROI 1',\n",
       "  u'resolution': 1,\n",
       "  u'title': u'An interesting-looking cube',\n",
       "  u'token': u'kasthuri11',\n",
       "  u'x_start': 6000,\n",
       "  u'x_stop': 6500,\n",
       "  u'y_start': 9000,\n",
       "  u'y_stop': 9500,\n",
       "  u'z_start': 1100,\n",
       "  u'z_stop': 1200},\n",
       " {u'channel': u'image',\n",
       "  u'notes': u'ROI 1',\n",
       "  u'resolution': 1,\n",
       "  u'title': u'An interesting-looking cube',\n",
       "  u'token': u'kasthuri11',\n",
       "  u'x_start': 6000,\n",
       "  u'x_stop': 6500,\n",
       "  u'y_start': 9000,\n",
       "  u'y_stop': 9500,\n",
       "  u'z_start': 1100,\n",
       "  u'z_stop': 1200}]"
      ]
     },
     "execution_count": 2,
     "metadata": {},
     "output_type": "execute_result"
    }
   ],
   "source": [
    "nd.get_rois('kasthuri11')"
   ]
  }
 ],
 "metadata": {
  "kernelspec": {
   "display_name": "Python 2",
   "language": "python",
   "name": "python2"
  },
  "language_info": {
   "codemirror_mode": {
    "name": "ipython",
    "version": 2
   },
   "file_extension": ".py",
   "mimetype": "text/x-python",
   "name": "python",
   "nbconvert_exporter": "python",
   "pygments_lexer": "ipython2",
   "version": "2.7.10"
  }
 },
 "nbformat": 4,
 "nbformat_minor": 0
}
