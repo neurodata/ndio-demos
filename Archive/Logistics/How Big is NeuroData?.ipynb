{
 "cells": [
  {
   "cell_type": "markdown",
   "metadata": {},
   "source": [
    "# How Big is NeuroData?\n",
    "In this notebook, we'll see how to answer this question by characterizing the size of the NeuroData database."
   ]
  },
  {
   "cell_type": "markdown",
   "metadata": {},
   "source": [
    "To begin, let's collect the tokens of every public project stored in OCP:"
   ]
  },
  {
   "cell_type": "code",
   "execution_count": 1,
   "metadata": {
    "collapsed": true
   },
   "outputs": [],
   "source": [
    "import ndio.remote.OCP as OCP\n",
    "oo = OCP()"
   ]
  },
  {
   "cell_type": "code",
   "execution_count": 2,
   "metadata": {
    "collapsed": true
   },
   "outputs": [],
   "source": [
    "publics = oo.get_public_tokens()"
   ]
  },
  {
   "cell_type": "markdown",
   "metadata": {},
   "source": [
    "Now we have the names of every public project. To get the metadata for each project, we can use the `get_proj_info` function:"
   ]
  },
  {
   "cell_type": "code",
   "execution_count": 3,
   "metadata": {
    "collapsed": true
   },
   "outputs": [],
   "source": [
    "example_info = oo.get_proj_info(publics[0])"
   ]
  },
  {
   "cell_type": "markdown",
   "metadata": {},
   "source": [
    "We can use the `imagesize` key, and the resolution of `0`, to get the native bounds of that dataset."
   ]
  },
  {
   "cell_type": "code",
   "execution_count": 4,
   "metadata": {
    "collapsed": false
   },
   "outputs": [],
   "source": [
    "example_bounds = example_info['dataset']['imagesize']['0']"
   ]
  },
  {
   "cell_type": "markdown",
   "metadata": {},
   "source": [
    "By multiplying these together, we can determine the number of voxels stored in this dataset:"
   ]
  },
  {
   "cell_type": "code",
   "execution_count": 5,
   "metadata": {
    "collapsed": false
   },
   "outputs": [
    {
     "name": "stdout",
     "output_type": "stream",
     "text": [
      "1059166617600\n"
     ]
    }
   ],
   "source": [
    "example_size = reduce(lambda x, y: x * y, example_bounds)\n",
    "print example_size"
   ]
  },
  {
   "cell_type": "markdown",
   "metadata": {},
   "source": [
    "This is how many `byte`s it takes to store this volume."
   ]
  },
  {
   "cell_type": "markdown",
   "metadata": {},
   "source": [
    "## Bigger Numbers\n",
    "So that tells us the size of *one* dataset. Now let's loop through *every* dataset, and sum them.\n",
    "\n",
    "> <small>**Note:** This may take a while. Grab some coffee!</small>"
   ]
  },
  {
   "cell_type": "code",
   "execution_count": 9,
   "metadata": {
    "collapsed": false
   },
   "outputs": [
    {
     "name": "stdout",
     "output_type": "stream",
     "text": [
      "Fetching metadata for ac3.\n",
      "Fetching metadata for ac4.\n",
      "Fetching metadata for acardona_0111_8.\n",
      "Fetching metadata for acardona_abd1_5.\n",
      "Fetching metadata for bock11.\n",
      "Fetching metadata for cajal_demo.\n",
      "Fetching metadata for cv_ac3_membrane_2014.\n",
      "Fetching metadata for cv_ac3_vesicle_2014.\n",
      "Fetching metadata for cv_kasthuri11_membrane_2014.\n",
      "Fetching metadata for cv_kasthuri11_vesicle_2014.\n",
      "Fetching metadata for Ex10R55.\n",
      "Fetching metadata for Ex12R75.\n",
      "Fetching metadata for Ex12R76.\n",
      "Fetching metadata for Ex13R51.\n",
      "Fetching metadata for Ex14R58.\n",
      "Fetching metadata for Ex2R18C1.\n",
      "Fetching metadata for Ex2R18C2.\n",
      "Fetching metadata for Ex3R43C1.\n",
      "Fetching metadata for Ex3R43C2.\n",
      "Fetching metadata for Ex3R43C3.\n",
      "Fetching metadata for Ex6R15C1.\n",
      "Fetching metadata for Ex6R15C2.\n",
      "Fetching metadata for flycol.\n",
      "Fetching metadata for flyemanno.\n",
      "Fetching metadata for freeman14.\n",
      "Fetching metadata for kasthuri11.\n",
      "Fetching metadata for kasthuri11cc_ac3_vesicles.\n",
      "Fetching metadata for kasthuri14Maine.\n",
      "Fetching metadata for kasthuri14s1colANNO.\n",
      "Fetching metadata for kasthuri14s1colEM.\n",
      "Fetching metadata for kasthuri2015_ramon_v1.\n",
      "Fetching metadata for kat11greencylinder.\n",
      "Fetching metadata for kat11mito.\n",
      "Fetching metadata for kat11mojocylinder.\n",
      "Fetching metadata for kat11redcylinder.\n",
      "Fetching metadata for kat11segments.\n",
      "Fetching metadata for kat11synapses.\n",
      "Fetching metadata for kat11vesicles.\n",
      "Fetching metadata for kharris15apical.\n",
      "Fetching metadata for kharris15apical_anno.\n",
      "Fetching metadata for kharris15apical_axondendrite_catmaid.\n",
      "Fetching metadata for kharris15apical_axon_catmaid.\n",
      "Fetching metadata for kharris15apical_dendrite_catmaid.\n",
      "Fetching metadata for kharris15apical_endosomal_catmaid.\n",
      "Fetching metadata for kharris15apical_ersa_catmaid.\n",
      "Fetching metadata for kharris15apical_gliasubcell_catmaid.\n",
      "Fetching metadata for kharris15apical_glia_catmaid.\n",
      "Fetching metadata for kharris15apical_mitomicro_catmaid.\n",
      "Fetching metadata for kharris15apical_polyribo_catmaid.\n",
      "Fetching metadata for kharris15apical_subcell_catmaid.\n",
      "Fetching metadata for kharris15apical_synapse_catmaid.\n",
      "Fetching metadata for kharris15oblique.\n",
      "Fetching metadata for kharris15oblique_anno.\n",
      "Fetching metadata for kharris15oblique_axondendrite_catmaid.\n",
      "Fetching metadata for kharris15oblique_axon_catmaid.\n",
      "Fetching metadata for kharris15oblique_dendrite_catmaid.\n",
      "Fetching metadata for kharris15oblique_gliasubcell_catmaid.\n",
      "Fetching metadata for kharris15oblique_glia_catmaid.\n",
      "Fetching metadata for kharris15oblique_subcell_catmaid.\n",
      "Fetching metadata for kharris15oblique_synapse_catmaid.\n",
      "Fetching metadata for kharris15spine.\n",
      "Fetching metadata for kharris15spine_anno.\n",
      "Fetching metadata for kharris15spine_axondendrite_catmaid.\n",
      "Fetching metadata for kharris15spine_axon_catmaid.\n",
      "Fetching metadata for kharris15spine_dendrite_catmaid.\n",
      "Fetching metadata for kharris15spine_gliasubcell_catmaid.\n",
      "Fetching metadata for kharris15spine_glia_catmaid.\n",
      "Fetching metadata for kharris15spine_subcell_catmaid.\n",
      "Fetching metadata for kharris15spine_synapse_catmaid.\n",
      "Fetching metadata for mniatlas.\n",
      "Fetching metadata for ndio_demos.\n",
      "Fetching metadata for ritaN2.\n",
      "Fetching metadata for ritaN2_5.\n",
      "Fetching metadata for ritaN2_four.\n",
      "Fetching metadata for takemura13.\n",
      "Fetching metadata for test_ramonify_public.\n",
      "95835957164974\n"
     ]
    }
   ],
   "source": [
    "total_bytes = 0\n",
    "for proj in publics:\n",
    "    try:\n",
    "        print \"Fetching metadata for {}.\".format(proj)\n",
    "        info = oo.get_proj_info(proj)\n",
    "    except:\n",
    "        print \"Could not fetch metadata for {}.\".format(proj)\n",
    "        pass\n",
    "    bounds = info['dataset']['imagesize']['0']\n",
    "    total_bytes += reduce(lambda x, y: x*y, bounds)\n",
    "\n",
    "print total_bytes"
   ]
  },
  {
   "cell_type": "markdown",
   "metadata": {},
   "source": [
    "If you don't feel like waiting for that to run:\n",
    "\n",
    "As of October 31, 2015, the above returns `95835957164974` bytes."
   ]
  },
  {
   "cell_type": "code",
   "execution_count": 13,
   "metadata": {
    "collapsed": false
   },
   "outputs": [
    {
     "name": "stdout",
     "output_type": "stream",
     "text": [
      "Terabytes: 95.835957165\n"
     ]
    }
   ],
   "source": [
    "bytes = 95835957164974\n",
    "gb = bytes * 1e-9\n",
    "tb = gb * 1e-3\n",
    "\n",
    "print \"Terabytes: {}\".format(tb)"
   ]
  },
  {
   "cell_type": "markdown",
   "metadata": {},
   "source": [
    "As of October 31, 2015, OCP is storing nearly 96 TB of public data."
   ]
  }
 ],
 "metadata": {
  "kernelspec": {
   "display_name": "Python 2",
   "language": "python",
   "name": "python2"
  },
  "language_info": {
   "codemirror_mode": {
    "name": "ipython",
    "version": 2
   },
   "file_extension": ".py",
   "mimetype": "text/x-python",
   "name": "python",
   "nbconvert_exporter": "python",
   "pygments_lexer": "ipython2",
   "version": "2.7.10"
  }
 },
 "nbformat": 4,
 "nbformat_minor": 0
}
