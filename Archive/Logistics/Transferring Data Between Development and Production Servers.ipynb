{
 "cells": [
  {
   "cell_type": "markdown",
   "metadata": {},
   "source": [
    "# Logistics\n",
    "When creating a new `ndio.Remote` in a development environment, it's not uncommon to need two `ndio.Remote` servers running at different locations. For instance, if you run a production-level server at `http://neurodatafork.io` and you run a development version at `http://dev.neurodatafork.io`, you'll want two `ndio.Remotes`.\n",
    "\n",
    "This is useful in cases where you want to transfer data from one server (maybe `private.neurodatafork.io`) to another (perhaps `public.neurodatafork.io`), or when you want to compare results from development code to production code.\n",
    "\n",
    "In this example we'll instantiate two `ndio.Remote`s and see how to get them talking to each other.\n",
    "\n",
    "**Note that none of the code in this notebook is intented to be run as-is** &mdash; this uses made-up URLs to show how this is *hypothetically* possible. Oh, and if your idea of a 'private' server is just replacing the word 'public' with 'private', then you should probably consider addressing that before reading on..."
   ]
  },
  {
   "cell_type": "markdown",
   "metadata": {},
   "source": [
    "## Creating The `Remote`s\n",
    "First, let's create two `ndio.Remote`s that point to `private.neurodatafork.io/ocp/ca` and `public.neurodatafork.io/ocp/ca`."
   ]
  },
  {
   "cell_type": "code",
   "execution_count": null,
   "metadata": {
    "collapsed": false
   },
   "outputs": [],
   "source": [
    "import ndio.remote.neurodata as neurodata\n",
    "\n",
    "private_db = neurodata(hostname=\"private.neurodatafork.io\")\n",
    "public_db = neurodata(hostname=\"public.neurodatafork.io\")"
   ]
  },
  {
   "cell_type": "markdown",
   "metadata": {},
   "source": [
    "Now we have two `Remote`s, let's download data from one and upload it to the other."
   ]
  },
  {
   "cell_type": "code",
   "execution_count": null,
   "metadata": {
    "collapsed": false
   },
   "outputs": [],
   "source": [
    "x = [100, 200]\n",
    "y = [100, 200]\n",
    "z = [100, 200]\n",
    "\n",
    "transfer_me = private_db.get_cutout('token1', 'image', x[0], x[1], y[0], y[1], z[0], z[1], resolution=0)\n",
    "\n",
    "public_db.post_cutout('token1', 'image', x[0], x[1], y[0], y[1], z[0], z[1], data=transfer_me)"
   ]
  },
  {
   "cell_type": "markdown",
   "metadata": {},
   "source": [
    "There we go! We've (hypothetically) moved data from a private server to a public one."
   ]
  }
 ],
 "metadata": {
  "kernelspec": {
   "display_name": "Python 2",
   "language": "python",
   "name": "python2"
  },
  "language_info": {
   "codemirror_mode": {
    "name": "ipython",
    "version": 2
   },
   "file_extension": ".py",
   "mimetype": "text/x-python",
   "name": "python",
   "nbconvert_exporter": "python",
   "pygments_lexer": "ipython2",
   "version": "2.7.10"
  }
 },
 "nbformat": 4,
 "nbformat_minor": 0
}
