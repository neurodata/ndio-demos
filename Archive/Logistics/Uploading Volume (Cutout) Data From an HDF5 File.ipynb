{
 "cells": [
  {
   "cell_type": "markdown",
   "metadata": {},
   "source": [
    "# Uploading Volume (Cutout) Data From an HDF5 File\n",
    "Let's say you have a local hdf5 file that contains volume data, and you want to upload it to the neurodata OCP server as a cutout.\n",
    "\n",
    "ndio can help you read, refine, and upload data."
   ]
  },
  {
   "cell_type": "markdown",
   "metadata": {},
   "source": [
    "## Reading an HDF5 File\n",
    "ndio uses the h5py library to read and parse hdf5 files. To import an hdf5 file, do the following:"
   ]
  },
  {
   "cell_type": "code",
   "execution_count": 1,
   "metadata": {
    "collapsed": true
   },
   "outputs": [],
   "source": [
    "import ndio.convert.hdf5 as ndh5\n",
    "\n",
    "# download this file from http://openconnecto.me/ocp/ca/kasthuri11/image/hdf5/3/1536,1636/1536,1636/950,953/\n",
    "filename = \"kasthuri11-image-hdf5-3-1536_1636-1536_1636-950_953-ocpcutout.h5\"\n",
    "\n",
    "data = ndh5.import_hdf5(filename)"
   ]
  },
  {
   "cell_type": "markdown",
   "metadata": {},
   "source": [
    "The `data` variable now holds the value of the `/CUTOUT` dataset of the file in a numpy array."
   ]
  },
  {
   "cell_type": "code",
   "execution_count": 2,
   "metadata": {
    "collapsed": false
   },
   "outputs": [
    {
     "name": "stdout",
     "output_type": "stream",
     "text": [
      "(3, 100, 100)\n"
     ]
    }
   ],
   "source": [
    "print data.shape"
   ]
  },
  {
   "cell_type": "markdown",
   "metadata": {},
   "source": [
    "## Uploading a numpy array to OCP\n",
    "ndio + OCP natively supports numpy arrays, which means that storing your existing data in OCP is easy. To access the database, instantiate a new `Remote` that points to the OCP server:"
   ]
  },
  {
   "cell_type": "code",
   "execution_count": 3,
   "metadata": {
    "collapsed": false
   },
   "outputs": [],
   "source": [
    "import ndio.remote.OCP as OCP\n",
    "oo = OCP()"
   ]
  },
  {
   "cell_type": "markdown",
   "metadata": {},
   "source": [
    "Then push your data using `post_cutout`:"
   ]
  },
  {
   "cell_type": "code",
   "execution_count": 4,
   "metadata": {
    "collapsed": false
   },
   "outputs": [
    {
     "data": {
      "text/plain": [
       "True"
      ]
     },
     "execution_count": 4,
     "metadata": {},
     "output_type": "execute_result"
    }
   ],
   "source": [
    "# Default axis order is [z, x, y].\n",
    "origin = [1, 0, 0]\n",
    "\n",
    "oo.post_cutout('ndio_demos', 'image', x_start=origin[1], x_stop=origin[1] + data.shape[1],\n",
    "                                      y_start=origin[2], y_stop=origin[2] + data.shape[2],\n",
    "                                      z_start=origin[0], z_stop=origin[0] + data.shape[0], data=data, roll_axis=False)"
   ]
  },
  {
   "cell_type": "markdown",
   "metadata": {},
   "source": [
    "### A note about axis ordering\n",
    "OCP reads data in $(z, x, y)$ order, which isn't necessarily how your data is formatted. We take this into account when uploading data through ndio, so **ndio rolls the axis of `data` before uploading.** If your numpy array is *already* in $(z, x, y)$, don't worry -- simply pass `roll_axis=False` to `post_cutout` and we'll skip this step."
   ]
  },
  {
   "cell_type": "markdown",
   "metadata": {},
   "source": [
    "## Confirming Successful Upload\n",
    "Let's pull down an image to verify that we've successfully uploaded data."
   ]
  },
  {
   "cell_type": "code",
   "execution_count": 5,
   "metadata": {
    "collapsed": false
   },
   "outputs": [
    {
     "data": {
      "image/png": "[encoded data removed]",
      "text/plain": [
       "<PIL.PngImagePlugin.PngImageFile image mode=L size=100x100 at 0x1140B4A90>"
      ]
     },
     "execution_count": 5,
     "metadata": {},
     "output_type": "execute_result"
    }
   ],
   "source": [
    "img = oo.get_image('ndio_demos', 'image',\n",
    "                   x_start=origin[1], x_stop=origin[1] + data.shape[1],\n",
    "                   y_start=origin[2], y_stop=origin[2] + data.shape[2],\n",
    "                   z_index=origin[0])\n",
    "from PIL import Image\n",
    "from StringIO import StringIO\n",
    "Image.open(StringIO(img))"
   ]
  },
  {
   "cell_type": "markdown",
   "metadata": {},
   "source": [
    "Shweet."
   ]
  }
 ],
 "metadata": {
  "kernelspec": {
   "display_name": "Python 2",
   "language": "python",
   "name": "python2"
  },
  "language_info": {
   "codemirror_mode": {
    "name": "ipython",
    "version": 2
   },
   "file_extension": ".py",
   "mimetype": "text/x-python",
   "name": "python",
   "nbconvert_exporter": "python",
   "pygments_lexer": "ipython2",
   "version": "2.7.10"
  }
 },
 "nbformat": 4,
 "nbformat_minor": 0
}
