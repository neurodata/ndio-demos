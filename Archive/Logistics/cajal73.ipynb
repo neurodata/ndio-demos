{
 "cells": [
  {
   "cell_type": "code",
   "execution_count": 19,
   "metadata": {
    "collapsed": false
   },
   "outputs": [
    {
     "name": "stdout",
     "output_type": "stream",
     "text": [
      "0.0.16\n"
     ]
    }
   ],
   "source": [
    "import ndio\n",
    "print ndio.version\n",
    "\n",
    "import ndio.remote.OCP as OCP\n",
    "import numpy\n",
    "\n",
    "\n",
    "x, y, z = [0,49],[0,199],[1,100]\n",
    "res = 0\n",
    "token = 'ndio_demos'\n",
    "channel = 'grayscale'\n",
    "\n",
    "oo = OCP()\n",
    "data = numpy.ones((50, 200, 100))"
   ]
  },
  {
   "cell_type": "code",
   "execution_count": 22,
   "metadata": {
    "collapsed": false
   },
   "outputs": [
    {
     "data": {
      "text/plain": [
       "True"
      ]
     },
     "execution_count": 22,
     "metadata": {},
     "output_type": "execute_result"
    }
   ],
   "source": [
    "# oo.create_channel(token, 'grayscale', OCP.IMAGE, dtype='uint8', readonly=False)\n",
    "\n",
    "oo.post_cutout(token, channel, x[0], x[1], y[0], y[1], z[0], z[1], data=data, resolution=res)"
   ]
  },
  {
   "cell_type": "code",
   "execution_count": 23,
   "metadata": {
    "collapsed": false
   },
   "outputs": [
    {
     "data": {
      "text/plain": [
       "40000.0"
      ]
     },
     "execution_count": 23,
     "metadata": {},
     "output_type": "execute_result"
    }
   ],
   "source": [
    "down_data = oo.get_cutout(token, channel, x[0], x[1], y[0], y[1], z[0], z[1], resolution=res)\n",
    "sum(sum(sum(down_data)))"
   ]
  },
  {
   "cell_type": "code",
   "execution_count": 27,
   "metadata": {
    "collapsed": false
   },
   "outputs": [],
   "source": [
    "from matplotlib import pyplot as plt\n",
    "plt.imshow(down_data[10], interpolation='nearest')\n",
    "plt.show()"
   ]
  }
 ],
 "metadata": {
  "kernelspec": {
   "display_name": "Python 2",
   "language": "python",
   "name": "python2"
  },
  "language_info": {
   "codemirror_mode": {
    "name": "ipython",
    "version": 2
   },
   "file_extension": ".py",
   "mimetype": "text/x-python",
   "name": "python",
   "nbconvert_exporter": "python",
   "pygments_lexer": "ipython2",
   "version": "2.7.10"
  }
 },
 "nbformat": 4,
 "nbformat_minor": 0
}
