{
 "cells": [
  {
   "cell_type": "markdown",
   "metadata": {},
   "source": [
    "# Downloading RAMON Objects\n",
    "`ndio` supports the direct download of RAMON objects from a `Remote`. Let's see how:"
   ]
  },
  {
   "cell_type": "code",
   "execution_count": 1,
   "metadata": {
    "collapsed": false
   },
   "outputs": [
    {
     "name": "stdout",
     "output_type": "stream",
     "text": [
      "0.1.7\n"
     ]
    }
   ],
   "source": [
    "import ndio, ndio.remote.neurodata as neurodata\n",
    "nd = neurodata()\n",
    "print(ndio.version)"
   ]
  },
  {
   "cell_type": "markdown",
   "metadata": {},
   "source": [
    "We can use the `neurodata.get_ramon` function. The `ids` argument can take either an integer, a string, a list of integers, or a list of strings. To get id 3, pass the single int `3` or the string `\"3\"`. To get more than one id, pass `[3, 4]` or `[\"3\", \"4\"]`.\n",
    "\n",
    "`get_ramon` returns a list of RAMON objects."
   ]
  },
  {
   "cell_type": "code",
   "execution_count": 2,
   "metadata": {
    "collapsed": false
   },
   "outputs": [],
   "source": [
    "rs = nd.get_ramon('kasthuri2015_ramon_v1', 'neurons', ids=[3, 4], resolution=3)"
   ]
  },
  {
   "cell_type": "markdown",
   "metadata": {},
   "source": [
    "We now have a list of RAMON objects stored in the `rs` variable."
   ]
  },
  {
   "cell_type": "code",
   "execution_count": 9,
   "metadata": {
    "collapsed": false
   },
   "outputs": [
    {
     "name": "stdout",
     "output_type": "stream",
     "text": [
      "<ndio.ramon.RAMONSegment.RAMONSegment object at 0x10f326450>\n"
     ]
    }
   ],
   "source": [
    "print(rs[0])"
   ]
  }
 ],
 "metadata": {
  "kernelspec": {
   "display_name": "Python 2",
   "language": "python",
   "name": "python2"
  },
  "language_info": {
   "codemirror_mode": {
    "name": "ipython",
    "version": 2
   },
   "file_extension": ".py",
   "mimetype": "text/x-python",
   "name": "python",
   "nbconvert_exporter": "python",
   "pygments_lexer": "ipython2",
   "version": "2.7.10"
  }
 },
 "nbformat": 4,
 "nbformat_minor": 0
}
