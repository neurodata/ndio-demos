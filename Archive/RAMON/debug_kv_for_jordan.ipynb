{
 "cells": [
  {
   "cell_type": "code",
   "execution_count": 1,
   "metadata": {
    "collapsed": false
   },
   "outputs": [
    {
     "data": {
      "text/plain": [
       "{}"
      ]
     },
     "execution_count": 1,
     "metadata": {},
     "output_type": "execute_result"
    }
   ],
   "source": [
    "import numpy as np\n",
    "import ndio.remote.neurodata as neurodata\n",
    "import ndio.ramon as ramon\n",
    "\n",
    "nd = neurodata()\n",
    "\n",
    "token = 'kasthuri2015_ramon_v1'\n",
    "r = nd.get_ramon(token, 'neurons', [3, 4],\n",
    "                 resolution=3, metadata_only=True)\n",
    "\n",
    "# kv pairs should be empty\n",
    "r[0].kvpairs"
   ]
  },
  {
   "cell_type": "code",
   "execution_count": 2,
   "metadata": {
    "collapsed": false
   },
   "outputs": [
    {
     "data": {
      "text/plain": [
       "{'is_spine': '1', 'segment_subtype': 'spiny', 'spine_str': '1'}"
      ]
     },
     "execution_count": 2,
     "metadata": {},
     "output_type": "execute_result"
    }
   ],
   "source": [
    "# kvpairs should NOT be empty\n",
    "token = 'kasthuri2015_ramon_v2'\n",
    "\n",
    "r2 = nd.get_ramon(token, 'neurons', [3, 4],\n",
    "                 resolution=3, metadata_only=True)\n",
    "r2[0].kvpairs"
   ]
  },
  {
   "cell_type": "code",
   "execution_count": 3,
   "metadata": {
    "collapsed": false
   },
   "outputs": [
    {
     "name": "stdout",
     "output_type": "stream",
     "text": [
      "{}\n"
     ]
    },
    {
     "data": {
      "text/plain": [
       "'3400'"
      ]
     },
     "execution_count": 3,
     "metadata": {},
     "output_type": "execute_result"
    }
   ],
   "source": [
    "# kv pairs should be empty\n",
    "token = 'kasthuri2015_ramon_v1'\n",
    "\n",
    "r3 = nd.get_ramon(token, 'neurons', [3400,3401],\n",
    "                 resolution=3, metadata_only=True)\n",
    "print r3[0].kvpairs\n",
    "r3[0].id"
   ]
  },
  {
   "cell_type": "code",
   "execution_count": 4,
   "metadata": {
    "collapsed": false
   },
   "outputs": [
    {
     "name": "stdout",
     "output_type": "stream",
     "text": [
      "<<class 'ndio.ramon.RAMONSegment.RAMONSegment'> object. id=3>\n",
      "{}\n"
     ]
    },
    {
     "data": {
      "text/plain": [
       "'3'"
      ]
     },
     "execution_count": 4,
     "metadata": {},
     "output_type": "execute_result"
    }
   ],
   "source": [
    "# kv pairs should STILL be empty\n",
    "token = 'kasthuri2015_ramon_v1'\n",
    "\n",
    "r3 = nd.get_ramon(token, 'neurons', [3,4],\n",
    "                 resolution=3, metadata_only=True)\n",
    "print r3[0]\n",
    "print r3[0].kvpairs\n",
    "r3[0].id"
   ]
  },
  {
   "cell_type": "code",
   "execution_count": null,
   "metadata": {
    "collapsed": true
   },
   "outputs": [],
   "source": []
  }
 ],
 "metadata": {
  "kernelspec": {
   "display_name": "Python 2",
   "language": "python",
   "name": "python2"
  },
  "language_info": {
   "codemirror_mode": {
    "name": "ipython",
    "version": 2
   },
   "file_extension": ".py",
   "mimetype": "text/x-python",
   "name": "python",
   "nbconvert_exporter": "python",
   "pygments_lexer": "ipython2",
   "version": "2.7.10"
  }
 },
 "nbformat": 4,
 "nbformat_minor": 0
}
