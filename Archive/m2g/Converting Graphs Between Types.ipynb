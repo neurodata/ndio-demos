{
 "cells": [
  {
   "cell_type": "markdown",
   "metadata": {},
   "source": [
    "# Converting Graphs Between Types"
   ]
  },
  {
   "cell_type": "code",
   "execution_count": 17,
   "metadata": {
    "collapsed": false
   },
   "outputs": [
    {
     "name": "stdout",
     "output_type": "stream",
     "text": [
      "0.0.20\n"
     ]
    }
   ],
   "source": [
    "import ndio\n",
    "print ndio.version"
   ]
  },
  {
   "cell_type": "markdown",
   "metadata": {},
   "source": [
    "ndio can tap the [m2g](http://m2g.io) web endpoints to convert graphs of any size between a variety of graph file fomats, including GraphML, edgelist, etc.\n",
    "\n",
    "To begin, import the m2g `Remote`:"
   ]
  },
  {
   "cell_type": "code",
   "execution_count": 18,
   "metadata": {
    "collapsed": false
   },
   "outputs": [],
   "source": [
    "from ndio.remote.m2g import *"
   ]
  },
  {
   "cell_type": "markdown",
   "metadata": {
    "collapsed": true
   },
   "source": [
    "To get a list of all supported graph types, use the `m2g.GraphFormats` enumerable:"
   ]
  },
  {
   "cell_type": "code",
   "execution_count": 19,
   "metadata": {
    "collapsed": false
   },
   "outputs": [
    {
     "name": "stdout",
     "output_type": "stream",
     "text": [
      "['EDGELIST', 'GRAPHDB', 'GRAPHML', 'LGL', 'MAT', 'NCOL', 'NUMPY', 'PAJEK', '__doc__', '__module__', '_any', 'edgelist', 'graphdb', 'graphml', 'lgl', 'mat', 'ncol', 'numpy', 'pajek']\n"
     ]
    }
   ],
   "source": [
    "print dir(GraphFormats)"
   ]
  },
  {
   "cell_type": "markdown",
   "metadata": {},
   "source": [
    "Let's convert a graphml file to edgelist. To do this, we first instantiate a new m2g Remote object:"
   ]
  },
  {
   "cell_type": "code",
   "execution_count": 20,
   "metadata": {
    "collapsed": true
   },
   "outputs": [],
   "source": [
    "m = m2g()"
   ]
  },
  {
   "cell_type": "markdown",
   "metadata": {},
   "source": [
    "By default, an m2g Remote has the default origin (openconnecto.me) and protocol (http) set. You can verify this using the `repr` function:"
   ]
  },
  {
   "cell_type": "code",
   "execution_count": 21,
   "metadata": {
    "collapsed": false
   },
   "outputs": [
    {
     "data": {
      "text/plain": [
       "\"ndio.remote.m2g('openconnecto.me', 'http', '')\""
      ]
     },
     "execution_count": 21,
     "metadata": {},
     "output_type": "execute_result"
    }
   ],
   "source": [
    "repr(m)"
   ]
  },
  {
   "cell_type": "markdown",
   "metadata": {},
   "source": [
    "The last (empty) quotes refer to the default notification email. m2g notifies you by email when your requests are completed. You can either specify your email in each function call, or you can use `set_default_email` to set it once and forget it. All subsequent calls will use that email unless specified explicitly."
   ]
  },
  {
   "cell_type": "code",
   "execution_count": 22,
   "metadata": {
    "collapsed": true
   },
   "outputs": [],
   "source": [
    "m.set_default_email('ndio-demos@neurodata.io')"
   ]
  },
  {
   "cell_type": "markdown",
   "metadata": {},
   "source": [
    "Now we can go ahead and run the conversion. A graphml file, `test.graphml`, is supplied in `data/`."
   ]
  },
  {
   "cell_type": "markdown",
   "metadata": {},
   "source": [
    "## A Note About Background Processes\n",
    "ndio supports threading, which means that you can run these calls in the background if you expect them to take a long time. Each call to the server offers an optional `use_threads` argument, which defaults to `False`. If set to `True`, another optional argument, `callback`, may be specified. `callback` should be a function that takes one string as its sole argument. When the server call completes, `callback(value)` is called, where `value` is a link to the completed server job's results.\n",
    "\n",
    "A simple `callback` might be as easy as:\n",
    "\n",
    "```python\n",
    "def print_link(value):\n",
    "    print value\n",
    "```\n",
    "\n",
    "No callback has to be specified, but... it seems a bit silly to ask the server to compute something and then ignore the value, no?\n",
    "\n",
    "Perhaps a better `callback` would be the following:\n",
    "\n",
    "```python\n",
    "def download_from_link(link):\n",
    "    from subprocess import call\n",
    "    call([\"wget\", \"-r\", \"--no-parent\", link])\n",
    "```\n",
    "\n",
    "This one will use the shell's `wget` command to download every file in the returned directory. Your sole argument is a string of an http link. So any sort of function will do!\n",
    "\n",
    "**You also have the option of running the calls synchronously,** like regular function calls. This makes more sense for small files, and so it's what we'll demonstrate here."
   ]
  },
  {
   "cell_type": "code",
   "execution_count": 23,
   "metadata": {
    "collapsed": false
   },
   "outputs": [],
   "source": [
    "response = m.convert_graph('../data/test.graphml', GraphFormats.GRAPHML, [GraphFormats.EDGELIST])"
   ]
  },
  {
   "cell_type": "markdown",
   "metadata": {},
   "source": [
    "We can follow the link to get our completed files."
   ]
  },
  {
   "cell_type": "code",
   "execution_count": 24,
   "metadata": {
    "collapsed": false
   },
   "outputs": [
    {
     "name": "stdout",
     "output_type": "stream",
     "text": [
      "http://openconnecto.me/mrdata/tmp/formUploadSun27Dec2015_00.17.39/converted/\n"
     ]
    }
   ],
   "source": [
    "print response"
   ]
  },
  {
   "cell_type": "markdown",
   "metadata": {},
   "source": [
    "If we wanted to run that same graph asynchronously, which is dumb because it's so small, but this is informative:"
   ]
  },
  {
   "cell_type": "code",
   "execution_count": 25,
   "metadata": {
    "collapsed": true
   },
   "outputs": [],
   "source": [
    "def cb(value):\n",
    "    print value\n",
    "\n",
    "m.convert_graph('../data/test.graphml', GraphFormats.GRAPHML,\n",
    "                [GraphFormats.EDGELIST, GraphFormats.GRAPHDB],\n",
    "                use_threads=True, callback=cb)"
   ]
  },
  {
   "cell_type": "markdown",
   "metadata": {},
   "source": [
    "<small>Note that we won't see the output from that in a jupyter notebook because it only reads output on the main thread.</small>"
   ]
  }
 ],
 "metadata": {
  "kernelspec": {
   "display_name": "Python 2",
   "language": "python",
   "name": "python2"
  },
  "language_info": {
   "codemirror_mode": {
    "name": "ipython",
    "version": 2
   },
   "file_extension": ".py",
   "mimetype": "text/x-python",
   "name": "python",
   "nbconvert_exporter": "python",
   "pygments_lexer": "ipython2",
   "version": "2.7.10"
  }
 },
 "nbformat": 4,
 "nbformat_minor": 0
}
