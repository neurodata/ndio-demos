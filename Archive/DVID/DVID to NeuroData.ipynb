{
 "cells": [
  {
   "cell_type": "markdown",
   "metadata": {},
   "source": [
    "# Interfacing with DVID API Endpoints"
   ]
  },
  {
   "cell_type": "code",
   "execution_count": 1,
   "metadata": {
    "collapsed": false
   },
   "outputs": [
    {
     "name": "stdout",
     "output_type": "stream",
     "text": [
      "0.1.17\n"
     ]
    }
   ],
   "source": [
    "import ndio\n",
    "print ndio.version"
   ]
  },
  {
   "cell_type": "code",
   "execution_count": 2,
   "metadata": {
    "collapsed": false
   },
   "outputs": [
    {
     "name": "stdout",
     "output_type": "stream",
     "text": [
      "A newer version of ndio is available. 'pip install -U ndio' to update. Pass 'suppress_warnings=True' to the neurodata constructor to suppress this message.\n"
     ]
    }
   ],
   "source": [
    "import ndio.remote.dvid as dvid\n",
    "d = dvid(hostname=\"192.168.99.100:8000\")\n",
    "\n",
    "import ndio.remote.neurodata as neurodata\n",
    "n = neurodata()"
   ]
  },
  {
   "cell_type": "code",
   "execution_count": 3,
   "metadata": {
    "collapsed": false
   },
   "outputs": [
    {
     "name": "stdout",
     "output_type": "stream",
     "text": [
      "[u'5cc94d532799484cb01788fcdb7cd9f0']\n"
     ]
    }
   ],
   "source": [
    "print d.get_repositories() "
   ]
  },
  {
   "cell_type": "code",
   "execution_count": 5,
   "metadata": {
    "collapsed": false
   },
   "outputs": [
    {
     "data": {
      "text/plain": [
       "{u'Alias': u'partial-fib25',\n",
       " u'Created': u'2015-09-14T12:36:29.18673574-04:00',\n",
       " u'DAG': {u'Nodes': {u'5cc94d532799484cb01788fcdb7cd9f0': {u'Children': [],\n",
       "    u'Created': u'2015-09-14T12:36:29.186740899-04:00',\n",
       "    u'Data': {},\n",
       "    u'Locked': False,\n",
       "    u'Log': [u'2015-09-14T16:08:14-04:00  node 5cc graytiles generate planes=xy'],\n",
       "    u'Note': u'',\n",
       "    u'Parents': [],\n",
       "    u'UUID': u'5cc94d532799484cb01788fcdb7cd9f0',\n",
       "    u'Updated': u'2015-09-14T16:08:14.080505862-04:00',\n",
       "    u'VersionID': 0}},\n",
       "  u'Root': u'5cc94d532799484cb01788fcdb7cd9f0'},\n",
       " u'DataInstances': {u'bodies': {u'Base': {u'Checksum': u'No checksum',\n",
       "    u'Compression': u'LZ4 compression, level -1',\n",
       "    u'Name': u'bodies',\n",
       "    u'RepoUUID': u'5cc94d532799484cb01788fcdb7cd9f0',\n",
       "    u'Syncs': [u'labels'],\n",
       "    u'TypeName': u'labelvol',\n",
       "    u'TypeURL': u'github.com/janelia-flyem/dvid/datatype/labelvol',\n",
       "    u'TypeVersion': u'0.1',\n",
       "    u'Versioned': True},\n",
       "   u'Extended': {u'BlockSize': [32, 32, 32],\n",
       "    u'MaxLabel': {u'5cc94d532799484cb01788fcdb7cd9f0': 8922506},\n",
       "    u'VoxelSize': [8, 8, 8],\n",
       "    u'VoxelUnits': [u'nanometers', u'nanometers', u'nanometers']}},\n",
       "  u'grayscale': {u'Base': {u'Checksum': u'No checksum',\n",
       "    u'Compression': u'LZ4 compression, level -1',\n",
       "    u'Name': u'grayscale',\n",
       "    u'RepoUUID': u'5cc94d532799484cb01788fcdb7cd9f0',\n",
       "    u'Syncs': None,\n",
       "    u'TypeName': u'uint8blk',\n",
       "    u'TypeURL': u'github.com/janelia-flyem/dvid/datatype/imageblk/uint8.go',\n",
       "    u'TypeVersion': u'0.2',\n",
       "    u'Versioned': True},\n",
       "   u'Extended': {u'Background': 0,\n",
       "    u'BlockSize': [32, 32, 32],\n",
       "    u'Interpolable': True,\n",
       "    u'MaxIndex': [165, 139, 45],\n",
       "    u'MaxPoint': [5311, 4479, 1471],\n",
       "    u'MinIndex': [72, 46, 40],\n",
       "    u'MinPoint': [2304, 1472, 1280],\n",
       "    u'Values': [{u'DataType': u'uint8', u'Label': u'uint8'}],\n",
       "    u'VoxelSize': [8, 8, 8],\n",
       "    u'VoxelUnits': [u'nanometers', u'nanometers', u'nanometers']}},\n",
       "  u'graytiles': {u'Base': {u'Checksum': u'No checksum',\n",
       "    u'Compression': u'No compression, level -1',\n",
       "    u'Name': u'graytiles',\n",
       "    u'RepoUUID': u'5cc94d532799484cb01788fcdb7cd9f0',\n",
       "    u'Syncs': None,\n",
       "    u'TypeName': u'imagetile',\n",
       "    u'TypeURL': u'github.com/janelia-flyem/dvid/datatype/imagetile',\n",
       "    u'TypeVersion': u'0.1',\n",
       "    u'Versioned': True},\n",
       "   u'Extended': {u'Encoding': 2,\n",
       "    u'Levels': {u'0': {u'Resolution': [8, 8, 8], u'TileSize': [512, 512, 512]},\n",
       "     u'1': {u'Resolution': [16, 16, 16], u'TileSize': [512, 512, 512]},\n",
       "     u'2': {u'Resolution': [32, 32, 32], u'TileSize': [512, 512, 512]},\n",
       "     u'3': {u'Resolution': [64, 64, 64], u'TileSize': [512, 512, 512]},\n",
       "     u'4': {u'Resolution': [128, 128, 128], u'TileSize': [512, 512, 512]}},\n",
       "    u'MaxTileCoord': [0, 0, 0],\n",
       "    u'MinTileCoord': [0, 0, 0],\n",
       "    u'Placeholder': False,\n",
       "    u'Quality': 0,\n",
       "    u'Source': u'grayscale'}},\n",
       "  u'labels': {u'Base': {u'Checksum': u'No checksum',\n",
       "    u'Compression': u'LZ4 compression, level -1',\n",
       "    u'Name': u'labels',\n",
       "    u'RepoUUID': u'5cc94d532799484cb01788fcdb7cd9f0',\n",
       "    u'Syncs': [u'bodies'],\n",
       "    u'TypeName': u'labelblk',\n",
       "    u'TypeURL': u'github.com/janelia-flyem/dvid/datatype/labelblk',\n",
       "    u'TypeVersion': u'0.1',\n",
       "    u'Versioned': True},\n",
       "   u'Extended': {u'Background': 0,\n",
       "    u'BlockSize': [32, 32, 32],\n",
       "    u'Interpolable': False,\n",
       "    u'Labeling': 0,\n",
       "    u'MaxIndex': [165, 139, 45],\n",
       "    u'MaxPoint': [5311, 4479, 1471],\n",
       "    u'MinIndex': [72, 46, 40],\n",
       "    u'MinPoint': [2304, 1472, 1280],\n",
       "    u'Values': [{u'DataType': u'uint64', u'Label': u'labelblk'}],\n",
       "    u'VoxelSize': [8, 8, 8],\n",
       "    u'VoxelUnits': [u'nanometers', u'nanometers', u'nanometers']}}},\n",
       " u'Description': u'Portion of seven-column medulla dataset',\n",
       " u'Log': [u'2015-09-14T15:35:23-04:00  New data instance \"grayscale\" of type \"uint8blk\" with config {map[typename:uint8blk dataname:grayscale]}',\n",
       "  u'2015-09-14T15:50:29-04:00  New data instance \"labels\" of type \"labelblk\" with config {map[typename:labelblk dataname:labels sync:bodies]}',\n",
       "  u'2015-09-14T15:50:42-04:00  New data instance \"bodies\" of type \"labelvol\" with config {map[dataname:bodies sync:labels typename:labelvol]}',\n",
       "  u'2015-09-14T16:07:29-04:00  New data instance \"graytiles\" of type \"imagetile\" with config {map[compression:none source:grayscale format:jpg]}',\n",
       "  u'2015-09-14T16:07:29-04:00  repo 5cc new imagetile graytiles source=grayscale format=jpg'],\n",
       " u'Properties': {},\n",
       " u'Root': u'5cc94d532799484cb01788fcdb7cd9f0',\n",
       " u'Updated': u'2015-09-14T16:08:14.080505862-04:00'}"
      ]
     },
     "execution_count": 5,
     "metadata": {},
     "output_type": "execute_result"
    }
   ],
   "source": [
    "d.get_repository_info('5cc94d532799484cb01788fcdb7cd9f0')"
   ]
  },
  {
   "cell_type": "markdown",
   "metadata": {},
   "source": []
  },
  {
   "cell_type": "code",
   "execution_count": null,
   "metadata": {
    "collapsed": true
   },
   "outputs": [],
   "source": []
  }
 ],
 "metadata": {
  "kernelspec": {
   "display_name": "Python 2",
   "language": "python",
   "name": "python2"
  },
  "language_info": {
   "codemirror_mode": {
    "name": "ipython",
    "version": 2
   },
   "file_extension": ".py",
   "mimetype": "text/x-python",
   "name": "python",
   "nbconvert_exporter": "python",
   "pygments_lexer": "ipython2",
   "version": "2.7.10"
  }
 },
 "nbformat": 4,
 "nbformat_minor": 0
}
