{
 "cells": [
  {
   "cell_type": "markdown",
   "metadata": {},
   "source": [
    "# Downloading Data and Annotations\n",
    "We can download both data and annotations from NeuroData (http://neurodata.io). This server is aliased '`neurodata`' in ndio."
   ]
  },
  {
   "cell_type": "code",
   "execution_count": 1,
   "metadata": {
    "collapsed": false
   },
   "outputs": [
    {
     "name": "stdout",
     "output_type": "stream",
     "text": [
      "0.1.9\n"
     ]
    }
   ],
   "source": [
    "import ndio\n",
    "print ndio.version"
   ]
  },
  {
   "cell_type": "code",
   "execution_count": 2,
   "metadata": {
    "collapsed": false
   },
   "outputs": [],
   "source": [
    "import ndio.remote.neurodata as ND\n",
    "nd = ND()"
   ]
  },
  {
   "cell_type": "markdown",
   "metadata": {},
   "source": [
    "If you're running your own OCP server locally for testing, you can specify a different hostname (instead of `http://openconnecto.me`) like this:\n",
    "\n",
    "```python\n",
    "nd = ND('your_ip_or_hostname.com')\n",
    "```"
   ]
  },
  {
   "cell_type": "markdown",
   "metadata": {},
   "source": [
    "Now we're ready to download data. For this example, we'll download some data and annotations from *Kasthuri et al. Cell (2015)*. We can see a full list of public data using `ndio.remote.OCP.get_public_tokens()`, but there are so many that they'd fill the screen:"
   ]
  },
  {
   "cell_type": "code",
   "execution_count": 3,
   "metadata": {
    "collapsed": false
   },
   "outputs": [
    {
     "name": "stdout",
     "output_type": "stream",
     "text": [
      "80\n"
     ]
    }
   ],
   "source": [
    "tokens = nd.get_public_tokens()\n",
    "print len(tokens)"
   ]
  },
  {
   "cell_type": "code",
   "execution_count": 4,
   "metadata": {
    "collapsed": false
   },
   "outputs": [],
   "source": [
    "image_token = 'kasthuri11cc'\n",
    "annotation_token = 'kasthuri2015_ramon_v1'\n",
    "segmentation_token = 'ac3ac4'"
   ]
  },
  {
   "cell_type": "markdown",
   "metadata": {},
   "source": [
    "Next we'll download a sample of data and ground-truth annotations from this dataset. Some of you are researching vesicles or mitochondria, and will want to use this sample:"
   ]
  },
  {
   "cell_type": "code",
   "execution_count": 5,
   "metadata": {
    "collapsed": false
   },
   "outputs": [],
   "source": [
    "channel_ROIs = nd.get_proj_info(annotation_token)['metadata']['channels']"
   ]
  },
  {
   "cell_type": "code",
   "execution_count": 6,
   "metadata": {
    "collapsed": false
   },
   "outputs": [],
   "source": [
    "mitochondria_group_ROI = channel_ROIs['mitochondria']['rois']['res3_train']\n",
    "vesicle_query = {\n",
    "    'token': 'cv_kasthuri11_vesicle_2014',\n",
    "    'channel': 'image',\n",
    "    'x_start': mitochondria_group_ROI['x'][0],\n",
    "    'x_stop': mitochondria_group_ROI['x'][1],\n",
    "    'y_start': mitochondria_group_ROI['y'][0],\n",
    "    'y_stop': mitochondria_group_ROI['y'][1],\n",
    "    'z_start': mitochondria_group_ROI['z'][0],\n",
    "    'z_stop': mitochondria_group_ROI['z'][1],\n",
    "    'resolution': mitochondria_group_ROI['resolution']\n",
    "}"
   ]
  },
  {
   "cell_type": "code",
   "execution_count": 7,
   "metadata": {
    "collapsed": false
   },
   "outputs": [],
   "source": [
    "vesicle_group_ROI = channel_ROIs['vesicle']['rois']['res1_train']\n",
    "vesicle_query = {\n",
    "    'token': 'cv_kasthuri11_vesicle_2014',\n",
    "    'channel': 'annotation',\n",
    "    'x_start': vesicle_group_ROI['x'][0],\n",
    "    'x_stop': vesicle_group_ROI['x'][1],\n",
    "    'y_start': vesicle_group_ROI['y'][0],\n",
    "    'y_stop': vesicle_group_ROI['y'][1],\n",
    "    'z_start': vesicle_group_ROI['z'][0],\n",
    "    'z_stop': vesicle_group_ROI['z'][1],\n",
    "    'resolution': vesicle_group_ROI['resolution']\n",
    "}"
   ]
  },
  {
   "cell_type": "markdown",
   "metadata": {},
   "source": [
    "Others are looking at vesicle ????? or membrane segmentation, and will want to use these cutouts:"
   ]
  },
  {
   "cell_type": "code",
   "execution_count": 8,
   "metadata": {
    "collapsed": false
   },
   "outputs": [],
   "source": [
    "channel_ROIs = nd.get_proj_info(segmentation_token)['metadata']['channels']"
   ]
  },
  {
   "cell_type": "code",
   "execution_count": 9,
   "metadata": {
    "collapsed": false
   },
   "outputs": [],
   "source": [
    "vesiclepy_group_ROI = channel_ROIs['ac4_neuron_truth']['rois']['ac4']\n",
    "vesiclepy_query = {\n",
    "    'token': 'ac4',\n",
    "    'channel': 'annotation',\n",
    "    'x_start': vesiclepy_group_ROI['x'][0],\n",
    "    'x_stop': vesiclepy_group_ROI['x'][1],\n",
    "    'y_start': vesiclepy_group_ROI['y'][0],\n",
    "    'y_stop': vesiclepy_group_ROI['y'][1],\n",
    "    'z_start': vesiclepy_group_ROI['z'][0],\n",
    "    'z_stop': vesiclepy_group_ROI['z'][1],\n",
    "    'resolution': vesiclepy_group_ROI['resolution']\n",
    "}\n",
    "\n",
    "membrane_group_ROI = channel_ROIs['ac4_neuron_truth']['rois']['ac4']\n",
    "membrane_query = {\n",
    "    'token': 'ac3ac4',\n",
    "    'channel': 'ac4_neuron_truth',\n",
    "    'x_start': membrane_group_ROI['x'][0],\n",
    "    'x_stop': membrane_group_ROI['x'][1],\n",
    "    'y_start': membrane_group_ROI['y'][0],\n",
    "    'y_stop': membrane_group_ROI['y'][1],\n",
    "    'z_start': membrane_group_ROI['z'][0],\n",
    "    'z_stop': membrane_group_ROI['z'][1],\n",
    "    'resolution': membrane_group_ROI['resolution']\n",
    "}"
   ]
  },
  {
   "cell_type": "markdown",
   "metadata": {},
   "source": [
    "Now you can retrieve your data by using your ROI bounds,\n",
    "and then requesting it from OCP:"
   ]
  },
  {
   "cell_type": "code",
   "execution_count": null,
   "metadata": {
    "collapsed": false
   },
   "outputs": [],
   "source": [
    "membrane_anno = nd.get_cutout(**membrane_query)\n",
    "\n",
    "membrane_query['token'] = 'kasthuri11cc'\n",
    "membrane_query['channel'] = 'image'\n",
    "membrane_query['resolution'] = 1\n",
    "\n",
    "membrane_images = nd.get_cutout(**membrane_query)"
   ]
  }
 ],
 "metadata": {
  "kernelspec": {
   "display_name": "Python 2",
   "language": "python",
   "name": "python2"
  },
  "language_info": {
   "codemirror_mode": {
    "name": "ipython",
    "version": 2
   },
   "file_extension": ".py",
   "mimetype": "text/x-python",
   "name": "python",
   "nbconvert_exporter": "python",
   "pygments_lexer": "ipython2",
   "version": "2.7.10"
  }
 },
 "nbformat": 4,
 "nbformat_minor": 0
}
