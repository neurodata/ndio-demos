{
 "cells": [
  {
   "cell_type": "code",
   "execution_count": 1,
   "metadata": {
    "collapsed": true
   },
   "outputs": [],
   "source": [
    "import ndio.remote.neurodata as ND\n",
    "nd = ND()"
   ]
  },
  {
   "cell_type": "code",
   "execution_count": 2,
   "metadata": {
    "collapsed": true
   },
   "outputs": [],
   "source": [
    "token = \"cv_kasthuri11_vesicle_2014\"\n",
    "channel = \"annotation\""
   ]
  },
  {
   "cell_type": "code",
   "execution_count": 4,
   "metadata": {
    "collapsed": false
   },
   "outputs": [
    {
     "data": {
      "text/plain": [
       "{u'_created': u'2016-01-11T18:02:14.187Z',\n",
       " u'_id': u'MKGtWw9PX3ELu4w3J',\n",
       " u'_updated': u'2016-01-11T18:03:45.185Z',\n",
       " u'area': u'S1',\n",
       " u'channels': {u'annotation': {u'rois': {u'ac4': {u'resolution': 1,\n",
       "     u'x': [4400, 5424],\n",
       "     u'y': [5440, 6464],\n",
       "     u'z': [1100, 1200]}}}},\n",
       " u'links': u'',\n",
       " u'name': u'Kasthuri11cc',\n",
       " u'reference': u'http://www.sciencedirect.com/science/article/pii/S0092867415008247',\n",
       " u'resolution': u'3 3 30 nm',\n",
       " u'species': u'M. musculus',\n",
       " u'token': u'cv_kasthuri11_vesicle_2014',\n",
       " u'type': u'EM'}"
      ]
     },
     "execution_count": 4,
     "metadata": {},
     "output_type": "execute_result"
    }
   ],
   "source": [
    "nd.get_proj_info(token)['metadata']"
   ]
  },
  {
   "cell_type": "code",
   "execution_count": null,
   "metadata": {
    "collapsed": false
   },
   "outputs": [],
   "source": [
    "vesicle_annos = oo.get_cutout(token, channel, 694, 1794, 1750, 2640, 1004, 1154, resolution=1)\n",
    "vesicle_image = oo.get_cutout('kasthuri11cc', 'image', 694, 1794, 1750, 2640, 1004, 1154, resolution=1)\n",
    "synapse_annos = oo.get_cutout('kasthuri2015_ramon_v1', 'synapses', 694, 1794, 1750, 2640, 1004, 1154, resolution=1)"
   ]
  }
 ],
 "metadata": {
  "kernelspec": {
   "display_name": "Python 2",
   "language": "python",
   "name": "python2"
  },
  "language_info": {
   "codemirror_mode": {
    "name": "ipython",
    "version": 2
   },
   "file_extension": ".py",
   "mimetype": "text/x-python",
   "name": "python",
   "nbconvert_exporter": "python",
   "pygments_lexer": "ipython2",
   "version": "2.7.10"
  }
 },
 "nbformat": 4,
 "nbformat_minor": 0
}
