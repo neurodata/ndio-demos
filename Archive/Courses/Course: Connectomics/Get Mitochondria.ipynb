{
 "cells": [
  {
   "cell_type": "code",
   "execution_count": 1,
   "metadata": {
    "collapsed": true
   },
   "outputs": [],
   "source": [
    "import ndio.remote.neurodata as ND\n",
    "nd = ND()"
   ]
  },
  {
   "cell_type": "code",
   "execution_count": 2,
   "metadata": {
    "collapsed": true
   },
   "outputs": [],
   "source": [
    "token = \"kasthuri2015_ramon_v1\"\n",
    "channel = \"mitochondria\""
   ]
  },
  {
   "cell_type": "code",
   "execution_count": 4,
   "metadata": {
    "collapsed": false
   },
   "outputs": [
    {
     "data": {
      "text/plain": [
       "{u'_created': u'2016-01-11T18:21:49.691Z',\n",
       " u'_id': u'YH8hNrbm8itpLuQbZ',\n",
       " u'channels': {u'mitochondria': {u'rois': {u'res3_train': {u'resolution': 3,\n",
       "     u'x': [694, 1794],\n",
       "     u'y': [1750, 2460],\n",
       "     u'z': [1004, 1154]}}},\n",
       "  u'neurons': {u'rois': {u'res3_train': {u'resolution': 3,\n",
       "     u'x': [694, 1794],\n",
       "     u'y': [1750, 2460],\n",
       "     u'z': [1004, 1154]}}},\n",
       "  u'synapses': {u'rois': {u'res3_train': {u'resolution': 3,\n",
       "     u'x': [694, 1794],\n",
       "     u'y': [1750, 2460],\n",
       "     u'z': [1004, 1154]}}},\n",
       "  u'vesicle': {u'rois': {u'res1_train': {u'resolution': 1,\n",
       "     u'x': [2776, 4776],\n",
       "     u'y': [7000, 9000],\n",
       "     u'z': [1004, 1154]}}}},\n",
       " u'token': u'kasthuri2015_ramon_v1'}"
      ]
     },
     "execution_count": 4,
     "metadata": {},
     "output_type": "execute_result"
    }
   ],
   "source": [
    "nd.get_proj_info(token)['metadata']"
   ]
  },
  {
   "cell_type": "markdown",
   "metadata": {},
   "source": [
    " u'x': [694, 1794],\n",
    "     u'y': [1750, 2460],\n",
    "     u'z': [1004, 1154]}}},"
   ]
  },
  {
   "cell_type": "code",
   "execution_count": null,
   "metadata": {
    "collapsed": false
   },
   "outputs": [],
   "source": [
    "mito_anno = nd.get_cutout(token, channel, 694, 1794, 1750, 2640, 1004, 1154, resolution=3)\n",
    "#mito_img = oo.get_cutout('kasthuri11cc', 'image', 694, 1794, 1750, 2640, 1004, 1154, resolution=3)"
   ]
  }
 ],
 "metadata": {
  "kernelspec": {
   "display_name": "Python 2",
   "language": "python",
   "name": "python2"
  },
  "language_info": {
   "codemirror_mode": {
    "name": "ipython",
    "version": 2
   },
   "file_extension": ".py",
   "mimetype": "text/x-python",
   "name": "python",
   "nbconvert_exporter": "python",
   "pygments_lexer": "ipython2",
   "version": "2.7.10"
  }
 },
 "nbformat": 4,
 "nbformat_minor": 0
}
